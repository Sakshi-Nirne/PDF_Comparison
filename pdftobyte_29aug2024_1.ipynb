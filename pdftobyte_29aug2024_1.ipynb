{
 "cells": [
  {
   "cell_type": "code",
   "execution_count": 2,
   "id": "a53bc6eb-d48d-4a50-99dc-327b07a8e5ae",
   "metadata": {},
   "outputs": [
    {
     "name": "stdout",
     "output_type": "stream",
     "text": [
      "PDF 'imgtext1.pdf' has been stored in the database.\n"
     ]
    }
   ],
   "source": [
    "import fitz  # PyMuPDF for PDF processing\n",
    "import pyodbc  # For MSSQL connection\n",
    "\n",
    "# Database connection details\n",
    "username = 'sa'\n",
    "password = 'Apvike123$'\n",
    "server = 'APVIKE-AI\\\\SQLEXPRESS2022'\n",
    "database = 'pdf'\n",
    "\n",
    "# Connection string\n",
    "connection_string = f'DRIVER={{ODBC Driver 17 for SQL Server}};SERVER={server};DATABASE={database};UID={username};PWD={password}'\n",
    "\n",
    "# Connect to MSSQL Database\n",
    "def connect_to_db():\n",
    "    return pyodbc.connect(connection_string)\n",
    "\n",
    "# Function to convert PDF file to bytes\n",
    "def pdf_to_bytes(pdf_path):\n",
    "    with fitz.open(pdf_path) as pdf_document:\n",
    "        pdf_bytes = pdf_document.write()  # Write the PDF to bytes\n",
    "    return pdf_bytes\n",
    "\n",
    "# Function to insert PDF data into the database\n",
    "def insert_pdf(pdf_name, pdf_data):\n",
    "    with connect_to_db() as conn:\n",
    "        cursor = conn.cursor()\n",
    "        cursor.execute(\"\"\"\n",
    "            INSERT INTO PdfComparison (Pdf1Name, Pdf1Data)\n",
    "            VALUES (?, ?)\n",
    "        \"\"\", (pdf_name, pdf_data))\n",
    "        conn.commit()\n",
    "        print(f\"PDF '{pdf_name}' has been stored in the database.\")\n",
    "\n",
    "# Main function to convert PDF to bytes and store it\n",
    "def main():\n",
    "    pdf_path = r\"D:\\Sakshi\\Pdf_diff\\Option_8\\imgtext1.pdf\"  # Use a raw string for the PDF file path\n",
    "    pdf_name = pdf_path.split(\"\\\\\")[-1]  # Extract the file name from the path\n",
    "\n",
    "    try:\n",
    "        pdf_data = pdf_to_bytes(pdf_path)  # Convert PDF to bytes\n",
    "        insert_pdf(pdf_name, pdf_data)      # Insert into the database\n",
    "    except Exception as e:\n",
    "        print(f\"An error occurred: {e}\")\n",
    "\n",
    "# Run the main function\n",
    "if __name__ == \"__main__\":\n",
    "    main()"
   ]
  },
  {
   "cell_type": "code",
   "execution_count": null,
   "id": "58537f1c-f87e-402d-b34d-553aadcb2fee",
   "metadata": {},
   "outputs": [],
   "source": []
  }
 ],
 "metadata": {
  "kernelspec": {
   "display_name": "Python 3 (ipykernel)",
   "language": "python",
   "name": "python3"
  },
  "language_info": {
   "codemirror_mode": {
    "name": "ipython",
    "version": 3
   },
   "file_extension": ".py",
   "mimetype": "text/x-python",
   "name": "python",
   "nbconvert_exporter": "python",
   "pygments_lexer": "ipython3",
   "version": "3.12.4"
  }
 },
 "nbformat": 4,
 "nbformat_minor": 5
}
